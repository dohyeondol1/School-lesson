# 한단락씩 실행하였음

import numpy as np
import pandas as pd

print(np.sqrt(2))

print(np.pi)

print(np.sin(np.pi/2))

print(np.arange(0, 1, 0.1))

print(np.linspace(0, 1, 10))

df = pd.read_csv('lol_ai.csv', encoding='utf-8')
df

df.head()

df.describe()

df.describe(include='all')

df.isnull() # 비어있는 데이터를 True, 비어있지 않은 데이터를 False로 표현
df.isnull().sum() # 열별 비어있는 데이터의 개수

df.fillna(0) # 비어있는 데이터를 0으로 채우기

df.fillna(method = 'bfill') # 비어있는 데이터를 뒤의 값으로 채우기

df.fillna(method = 'ffill') # 앞의 값으로 채우기
