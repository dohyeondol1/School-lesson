{
  "nbformat": 4,
  "nbformat_minor": 0,
  "metadata": {
    "colab": {
      "provenance": [],
      "include_colab_link": true
    },
    "kernelspec": {
      "name": "python3",
      "display_name": "Python 3"
    },
    "language_info": {
      "name": "python"
    }
  },
  "cells": [
    {
      "cell_type": "markdown",
      "metadata": {
        "id": "view-in-github",
        "colab_type": "text"
      },
      "source": [
        "<a href=\"https://colab.research.google.com/github/dohyeondol1/School-lesson/blob/main/lesson9.ipynb\" target=\"_parent\"><img src=\"https://colab.research.google.com/assets/colab-badge.svg\" alt=\"Open In Colab\"/></a>"
      ]
    },
    {
      "cell_type": "code",
      "execution_count": 1,
      "metadata": {
        "id": "HCPyB7y7Tk1e",
        "colab": {
          "base_uri": "https://localhost:8080/"
        },
        "outputId": "f1671443-95ee-48dc-cf1f-f38f3be4dd06"
      },
      "outputs": [
        {
          "output_type": "stream",
          "name": "stdout",
          "text": [
            "Downloading data from https://storage.googleapis.com/tensorflow/tf-keras-datasets/mnist.npz\n",
            "11490434/11490434 [==============================] - 0s 0us/step\n",
            "(60000, 28, 28) (60000,) (10000, 28, 28) (10000,)\n"
          ]
        }
      ],
      "source": [
        "import tensorflow as tf\n",
        "from tensorflow import keras\n",
        "from tensorflow.keras import layers\n",
        "\n",
        "mnist = tf.keras.datasets.mnist\n",
        "\n",
        "(x_train, y_train), (x_test, y_test) = mnist.load_data()\n",
        "x_train, x_test = x_train / 255.0, x_test / 255.0\n",
        "print(x_train.shape, y_train.shape, x_test.shape, y_test.shape)"
      ]
    },
    {
      "cell_type": "code",
      "source": [
        "import matplotlib.pyplot as plt\n",
        "\n",
        "\n",
        "plt.figure(figsize=(10, 10))\n",
        "c = 0\n",
        "for x in range(5):\n",
        "    for y in range(3):\n",
        "        plt.subplot(5,3,c+1)\n",
        "        plt.imshow(x_train[c], cmap='gray')\n",
        "        c+=1\n",
        "    \n",
        "plt.show()\n",
        "\n",
        "print(y_train[:15])"
      ],
      "metadata": {
        "id": "Npz9sLzNVZ-O",
        "colab": {
          "base_uri": "https://localhost:8080/",
          "height": 612
        },
        "outputId": "65c7a45c-f9bc-42a4-8d8b-3b0b00d5c85f"
      },
      "execution_count": 2,
      "outputs": [
        {
          "output_type": "display_data",
          "data": {
            "text/plain": [
              "<Figure size 720x720 with 15 Axes>"
            ],
            "image/png": "[encoded data removed]"
          },
          "metadata": {
            "needs_background": "light"
          }
        },
        {
          "output_type": "stream",
          "name": "stdout",
          "text": [
            "[5 0 4 1 9 2 1 3 1 4 3 5 3 6 1]\n"
          ]
        }
      ]
    },
    {
      "cell_type": "code",
      "source": [
        "# 모델 레이어 설정\n",
        "model = tf.keras.models.Sequential([\n",
        "  tf.keras.layers.Flatten(input_shape=(28, 28)),\n",
        "  tf.keras.layers.Dense(128, activation='relu'),\n",
        "  tf.keras.layers.Dropout(0.2),\n",
        "  tf.keras.layers.Dense(10, activation='softmax')\n",
        "])\n",
        "\n",
        "# 옵티마이저와 손실함수를 설정하고 정확도 매트릭스가 나오게 컴파일\n",
        "model.compile(optimizer='adam',\n",
        "              loss='sparse_categorical_crossentropy',\n",
        "              metrics=['accuracy'])\n",
        "         \n",
        "# 모델의 모습을 표로 출력\n",
        "model.summary()\n",
        "     \n",
        "# 위의 레이어를 가진 모델로 5번 학습시킴\n",
        "print(model.fit(x_train, y_train, epochs=5))\n",
        "\n",
        "# 검증을 해봄\n",
        "print(model.evaluate(x_test, y_test))"
      ],
      "metadata": {
        "id": "ioJwQtsgVIw3",
        "colab": {
          "base_uri": "https://localhost:8080/"
        },
        "outputId": "69d34248-8fba-4de7-817d-39f59a5034cb"
      },
      "execution_count": 3,
      "outputs": [
        {
          "output_type": "stream",
          "name": "stdout",
          "text": [
            "Model: \"sequential\"\n",
            "_________________________________________________________________\n",
            " Layer (type)                Output Shape              Param #   \n",
            "=================================================================\n",
            " flatten (Flatten)           (None, 784)               0         \n",
            "                                                                 \n",
            " dense (Dense)               (None, 128)               100480    \n",
            "                                                                 \n",
            " dropout (Dropout)           (None, 128)               0         \n",
            "                                                                 \n",
            " dense_1 (Dense)             (None, 10)                1290      \n",
            "                                                                 \n",
            "=================================================================\n",
            "Total params: 101,770\n",
            "Trainable params: 101,770\n",
            "Non-trainable params: 0\n",
            "_________________________________________________________________\n",
            "Epoch 1/5\n",
            "1875/1875 [==============================] - 10s 4ms/step - loss: 0.2965 - accuracy: 0.9151\n",
            "Epoch 2/5\n",
            "1875/1875 [==============================] - 4s 2ms/step - loss: 0.1428 - accuracy: 0.9567\n",
            "Epoch 3/5\n",
            "1875/1875 [==============================] - 7s 4ms/step - loss: 0.1079 - accuracy: 0.9668\n",
            "Epoch 4/5\n",
            "1875/1875 [==============================] - 5s 3ms/step - loss: 0.0896 - accuracy: 0.9729\n",
            "Epoch 5/5\n",
            "1875/1875 [==============================] - 4s 2ms/step - loss: 0.0772 - accuracy: 0.9762\n",
            "<keras.callbacks.History object at 0x7fa08d7b1810>\n",
            "313/313 [==============================] - 1s 2ms/step - loss: 0.0813 - accuracy: 0.9756\n",
            "[0.08130525797605515, 0.975600004196167]\n"
          ]
        }
      ]
    },
    {
      "cell_type": "code",
      "source": [
        "model = tf.keras.models.Sequential([\n",
        "    tf.keras.layers.Conv2D(input_shape=(28, 28, 1), kernel_size=3, filters=64),\n",
        "    tf.keras.layers.MaxPool2D(pool_size=(2,2), strides=(1,1)),\n",
        "    tf.keras.layers.Conv2D(input_shape=(28, 28, 1), kernel_size=3, filters=32),\n",
        "    tf.keras.layers.MaxPool2D(pool_size=(2,2), strides=(1,1)),\n",
        "    tf.keras.layers.Flatten(),\n",
        "\n",
        "    tf.keras.layers.Dense(64, activation='relu'),\n",
        "    tf.keras.layers.Dropout(0.2),\n",
        "    tf.keras.layers.Dense(32, activation='relu'),\n",
        "    tf.keras.layers.Dropout(0.2),\n",
        "    tf.keras.layers.Dense(10, activation='softmax'),\n",
        "])\n",
        "\n",
        "# 옵티마이저와 손실함수를 설정하고 정확도 매트릭스가 나오게 컴파일\n",
        "model.compile(optimizer='adam',\n",
        "              loss='sparse_categorical_crossentropy',\n",
        "              metrics=['accuracy'])\n",
        "         \n",
        "# 모델의 모습을 표로 출력\n",
        "model.summary()\n",
        "     \n",
        "# 위의 레이어를 가진 모델로 5번 학습시킴\n",
        "print(model.fit(x_train, y_train, epochs=5))\n",
        "\n",
        "# 검증을 해봄\n",
        "print(model.evaluate(x_test, y_test))"
      ],
      "metadata": {
        "id": "LLCHR95pVtDO",
        "colab": {
          "base_uri": "https://localhost:8080/"
        },
        "outputId": "3b6d3023-5a29-4bf5-bc78-7a7e763f29d3"
      },
      "execution_count": 4,
      "outputs": [
        {
          "output_type": "stream",
          "name": "stdout",
          "text": [
            "Model: \"sequential_1\"\n",
            "_________________________________________________________________\n",
            " Layer (type)                Output Shape              Param #   \n",
            "=================================================================\n",
            " conv2d (Conv2D)             (None, 26, 26, 64)        640       \n",
            "                                                                 \n",
            " max_pooling2d (MaxPooling2D  (None, 25, 25, 64)       0         \n",
            " )                                                               \n",
            "                                                                 \n",
            " conv2d_1 (Conv2D)           (None, 23, 23, 32)        18464     \n",
            "                                                                 \n",
            " max_pooling2d_1 (MaxPooling  (None, 22, 22, 32)       0         \n",
            " 2D)                                                             \n",
            "                                                                 \n",
            " flatten_1 (Flatten)         (None, 15488)             0         \n",
            "                                                                 \n",
            " dense_2 (Dense)             (None, 64)                991296    \n",
            "                                                                 \n",
            " dropout_1 (Dropout)         (None, 64)                0         \n",
            "                                                                 \n",
            " dense_3 (Dense)             (None, 32)                2080      \n",
            "                                                                 \n",
            " dropout_2 (Dropout)         (None, 32)                0         \n",
            "                                                                 \n",
            " dense_4 (Dense)             (None, 10)                330       \n",
            "                                                                 \n",
            "=================================================================\n",
            "Total params: 1,012,810\n",
            "Trainable params: 1,012,810\n",
            "Non-trainable params: 0\n",
            "_________________________________________________________________\n",
            "Epoch 1/5\n",
            "1875/1875 [==============================] - 233s 124ms/step - loss: 0.2472 - accuracy: 0.9272\n",
            "Epoch 2/5\n",
            "1875/1875 [==============================] - 229s 122ms/step - loss: 0.1216 - accuracy: 0.9659\n",
            "Epoch 3/5\n",
            "1875/1875 [==============================] - 230s 122ms/step - loss: 0.0982 - accuracy: 0.9728\n",
            "Epoch 4/5\n",
            "1875/1875 [==============================] - 231s 123ms/step - loss: 0.0850 - accuracy: 0.9766\n",
            "Epoch 5/5\n",
            "1875/1875 [==============================] - 231s 123ms/step - loss: 0.0742 - accuracy: 0.9791\n",
            "<keras.callbacks.History object at 0x7fa092338350>\n",
            "313/313 [==============================] - 7s 23ms/step - loss: 0.0529 - accuracy: 0.9855\n",
            "[0.05292245373129845, 0.9854999780654907]\n"
          ]
        }
      ]
    },
    {
      "cell_type": "code",
      "source": [
        "from google.colab import auth\n",
        "from google.colab import drive\n",
        "drive.mount('/content/gdrive')\n",
        " \n",
        "%cd ~/../content/gdrive/MyDrive"
      ],
      "metadata": {
        "id": "UGnm7ud5WKhf",
        "colab": {
          "base_uri": "https://localhost:8080/"
        },
        "outputId": "e304d8d7-ce37-4de1-e76f-d085870f9401"
      },
      "execution_count": 6,
      "outputs": [
        {
          "output_type": "stream",
          "name": "stdout",
          "text": [
            "Mounted at /content/gdrive\n",
            "/content/gdrive/MyDrive\n"
          ]
        }
      ]
    },
    {
      "cell_type": "code",
      "source": [
        "import cv2\n",
        "import numpy as np\n",
        "import matplotlib.pyplot as plt\n",
        "\n",
        "src = cv2.imread('./test.png', cv2.IMREAD_GRAYSCALE)\n",
        "ret , binary = cv2.threshold(src,170,255,cv2.THRESH_BINARY_INV)\n",
        "myNum = np.asarray(cv2.resize(binary, dsize=(28, 28), interpolation=cv2.INTER_AREA))/255\n",
        "\n",
        "plt.imshow(myNum, cmap='gray')\n",
        "print(myNum.shape)"
      ],
      "metadata": {
        "id": "2nOE_VE9aIwh",
        "colab": {
          "base_uri": "https://localhost:8080/",
          "height": 283
        },
        "outputId": "d66f5d27-95d9-47f8-9a5e-11187d8670bd"
      },
      "execution_count": 7,
      "outputs": [
        {
          "output_type": "stream",
          "name": "stdout",
          "text": [
            "(28, 28)\n"
          ]
        },
        {
          "output_type": "display_data",
          "data": {
            "text/plain": [
              "<Figure size 432x288 with 1 Axes>"
            ],
            "image/png": "[encoded data removed]"
          },
          "metadata": {
            "needs_background": "light"
          }
        }
      ]
    },
    {
      "cell_type": "code",
      "source": [
        "categoris = [0, 1, 2, 3, 4, 5, 6, 7, 8, 9]\n",
        "\n",
        "print(np.argmax(model.predict(myNum.reshape(-1, 28, 28, 1))[0]))"
      ],
      "metadata": {
        "id": "awQOGAZ_apfp",
        "colab": {
          "base_uri": "https://localhost:8080/"
        },
        "outputId": "fb52cea9-513f-4a4e-9b2a-dcefc65a49fc"
      },
      "execution_count": 8,
      "outputs": [
        {
          "output_type": "stream",
          "name": "stdout",
          "text": [
            "1/1 [==============================] - 0s 187ms/step\n",
            "4\n"
          ]
        }
      ]
    },
    {
      "cell_type": "code",
      "source": [],
      "metadata": {
        "id": "bFIdN-x7bziS"
      },
      "execution_count": null,
      "outputs": []
    }
  ]
}
