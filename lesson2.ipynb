import pandas as pd

df = pd.read_csv('lol_ai.csv', encoding='utf-8')

df['챔피언'].head() # 원하는 열 선택하기
df[['챔피언', 'CS']].head()

df[10:70] # 원하는 행 선택하기

df['CS'] > 200 # 조건에 따라 선택하기
df[df['CS'] > 200].head()

import matplotlib.pyplot as plt

# 막대그래프
x=df.loc[:20, '챔피언'] 
y=df.loc[:20, 'CS']

plt.xticks(rotation=60) # 회전
plt.bar(x, y, width=0.7)
